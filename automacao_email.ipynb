{
 "cells": [
  {
   "cell_type": "code",
   "execution_count": 191,
   "id": "086e334c",
   "metadata": {},
   "outputs": [],
   "source": [
    "#Caso não tiver as bibliotecas\n",
    "#https://pyautogui.readthedocs.io/en/latest/install.html\n",
    "#!pip install pyautogui \n",
    "#!pip install pyperclip\n",
    "\n",
    "import pyautogui\n",
    "import pyperclip\n",
    "import time\n",
    "\n",
    "#Abrir uma nova aba\n",
    "pyautogui.hotkey(\"ctrl\",\"t\")\n",
    "#Digitar o endereço do google drive https://drive.google.com/drive/folders/14oLE59U1RqyRqlBbKpsyymW-mitvbtoh\n",
    "pyperclip.copy(\"https://drive.google.com/drive/folders/localondeestaoarquivo\")\n",
    "pyautogui.hotkey(\"ctrl\",\"v\")\n",
    "time.sleep(0.5)\n",
    "#Pressionar enter\n",
    "pyautogui.press(\"enter\")\n",
    "time.sleep(5)\n",
    "#Clicar no arquivo que vai ser baixado \n",
    "pyautogui.click(x=501, y=313)\n",
    "time.sleep(2)\n",
    "#Clicar nos 3 pontinhos\n",
    "pyautogui.click(x=1158, y=198)\n",
    "time.sleep(2)\n",
    "#Clicar em fazer download\n",
    "pyautogui.click(x=954, y=601)\n",
    "time.sleep(2)\n",
    "#pyautogui.click(x=925, y=574)\n",
    "#time.sleep(5)"
   ]
  },
  {
   "cell_type": "code",
   "execution_count": 192,
   "id": "d8c4c36b",
   "metadata": {},
   "outputs": [],
   "source": [
    "#Acessar o arquivo baixado C:\\Users\\Noriyuki Noguti\\Downloads\\Vendas - Dez.xlsx\n",
    "\n",
    "import pandas as pd  \n",
    "\n",
    "tabela = pd.read_excel(r\"C:/Users/*****/Downloads/Vendas - Dez.xlsx\")\n",
    "#display(tabela)\n",
    "faturamento = tabela[\"Valor Final\"].sum()\n",
    "quantidade = tabela[\"Quantidade\"].sum()"
   ]
  },
  {
   "cell_type": "code",
   "execution_count": 193,
   "id": "02c1db55",
   "metadata": {},
   "outputs": [],
   "source": [
    "\n",
    "#Abre uma nova aba\n",
    "pyautogui.hotkey(\"ctrl\",\"t\")\n",
    "#Abrir email\n",
    "#É utilizado o pyperclip para copiar o texto pra evitar erro quando tem caracter especial\n",
    "pyperclip.copy(\"https://mail.google.com/mail/u/0/#inbox\")\n",
    "pyautogui.hotkey(\"ctrl\",\"v\")\n",
    "time.sleep(0.5)\n",
    "pyautogui.press(\"enter\")\n",
    "time.sleep(5)\n",
    "#Clica em escrever\n",
    "pyautogui.click(x=98, y=219)\n",
    "#tempo para abrir a caixa para envio de email\n",
    "time.sleep(2.5)\n",
    "#Digita o endereço de email\n",
    "pyautogui.write(\"seuemail@gmail.com\")\n",
    "pyautogui.press(\"tab\")#Tab para confirmar email\n",
    "time.sleep(1)\n",
    "pyautogui.press(\"tab\")#Tab para mudar pro campo de assunto\n",
    "#Digita o assunto\n",
    "pyperclip.copy(\"Relatório de vendas\")\n",
    "pyautogui.hotkey(\"ctrl\",\"v\")\n",
    "time.sleep(1)\n",
    "#Tab para mudar pro corpo do email\n",
    "pyautogui.press(\"tab\")\n",
    "#Armazena na variável o texo, texto grande é formatado com a letra f no início seguida de 3 aspas no início e 3 no final\n",
    "#Formatação da variável no corpo do texto, a vírgula é pro milhar e o ponto pras casas decimais, seguida da qtde de casas + a letra f\n",
    "texto=f\"\"\"\n",
    "Prezados bom dia,\n",
    "\n",
    "O faturamento de ontem foi R${faturamento:,.2f}\n",
    "A quantidade de produtos foi {quantidade:,}\n",
    "\n",
    "Atenciosamente\n",
    "\n",
    "Floriano\"\"\"\n",
    "\n",
    "pyperclip.copy(texto)\n",
    "pyautogui.hotkey(\"ctrl\",\"v\")\n",
    "time.sleep(0.5)\n",
    "pyautogui.click(x=955, y=736)\n",
    "time.sleep(3)\n",
    "pyautogui.write(\"Vendas - Dez.xlsx\")\n",
    "time.sleep(1)\n",
    "pyautogui.click(x=513, y=445)\n",
    "time.sleep(5)\n",
    "#Atalho para enviar o email\n",
    "pyautogui.hotkey(\"ctrl\",\"enter\")"
   ]
  },
  {
   "cell_type": "code",
   "execution_count": 194,
   "id": "9ae0c277",
   "metadata": {},
   "outputs": [],
   "source": [
    "#time.sleep(13)\n",
    "#pyautogui.position()"
   ]
  },
  {
   "cell_type": "code",
   "execution_count": null,
   "id": "69663215",
   "metadata": {},
   "outputs": [],
   "source": []
  }
 ],
 "metadata": {
  "kernelspec": {
   "display_name": "Python 3",
   "language": "python",
   "name": "python3"
  },
  "language_info": {
   "codemirror_mode": {
    "name": "ipython",
    "version": 3
   },
   "file_extension": ".py",
   "mimetype": "text/x-python",
   "name": "python",
   "nbconvert_exporter": "python",
   "pygments_lexer": "ipython3",
   "version": "3.8.8"
  }
 },
 "nbformat": 4,
 "nbformat_minor": 5
}
